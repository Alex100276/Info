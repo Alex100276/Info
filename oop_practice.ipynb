{
  "cells": [
    {
      "cell_type": "markdown",
      "metadata": {
        "id": "view-in-github",
        "colab_type": "text"
      },
      "source": [
        "<a href=\"https://colab.research.google.com/github/Alex100276/Info/blob/main/oop_practice.ipynb\" target=\"_parent\"><img src=\"https://colab.research.google.com/assets/colab-badge.svg\" alt=\"Open In Colab\"/></a>"
      ]
    },
    {
      "cell_type": "markdown",
      "metadata": {
        "id": "-vyn527dHqAw"
      },
      "source": [
        "# ООП: объекты и классы. Взаимодействие между ними\n",
        "\n",
        "**Булыгин Олег**\n",
        "* [Я в LinkedIn](https://www.linkedin.com/in/obulygin/)  \n",
        "* [Мой канал в ТГ по Python](https://t.me/pythontalk_ru)\n",
        "* [Чат канала](https://t.me/pythontalk_chat)\n",
        "* [Блог в Телетайпе](https://teletype.in/@pythontalk)\n",
        "\n",
        "Ссылочки в ноутбуке ведут на полезные доп. материалы, обязательно всё изучайте :)"
      ]
    },
    {
      "cell_type": "markdown",
      "source": [
        "## Классы и объекты\n",
        "\n",
        "Класс - \"шаблон\", \"чертёж\" для создания объектов, с описанием какими свойствами и поведением будет обладать объект.  \n",
        "Объект - конкретный экземпляр какого-либо класса или классов с собственным состоянием свойств.\n",
        "\n",
        "В Python всё, по сути, является объектом.\n"
      ],
      "metadata": {
        "id": "lAdkx08oSvzj"
      }
    },
    {
      "cell_type": "code",
      "execution_count": null,
      "metadata": {
        "id": "4ShaWY84HqAz",
        "colab": {
          "base_uri": "https://localhost:8080/"
        },
        "outputId": "ae13911c-41a2-43b8-de99-1b5d961c1859"
      },
      "outputs": [
        {
          "output_type": "stream",
          "name": "stdout",
          "text": [
            "<class 'str'>\n",
            "<class 'int'>\n",
            "<class 'function'>\n"
          ]
        }
      ],
      "source": [
        "some_str = 'Hello world'\n",
        "some_int = 42\n",
        "double = lambda x: x*2\n",
        "\n",
        "print(type(some_str))\n",
        "print(type(some_int))\n",
        "print(type(double))"
      ]
    },
    {
      "cell_type": "markdown",
      "source": [
        "dir - функция, которая возвращает список всех методов, которые можно применить для объекта\n"
      ],
      "metadata": {
        "id": "hhAk-LvuefCM"
      }
    },
    {
      "cell_type": "code",
      "execution_count": null,
      "metadata": {
        "id": "QMF-U_EKHqA0",
        "colab": {
          "base_uri": "https://localhost:8080/"
        },
        "outputId": "450d8cbf-c90e-4aef-e9ae-559593b633ec"
      },
      "outputs": [
        {
          "output_type": "stream",
          "name": "stdout",
          "text": [
            "['__add__', '__class__', '__contains__', '__delattr__', '__dir__', '__doc__', '__eq__', '__format__', '__ge__', '__getattribute__', '__getitem__', '__getnewargs__', '__gt__', '__hash__', '__init__', '__init_subclass__', '__iter__', '__le__', '__len__', '__lt__', '__mod__', '__mul__', '__ne__', '__new__', '__reduce__', '__reduce_ex__', '__repr__', '__rmod__', '__rmul__', '__setattr__', '__sizeof__', '__str__', '__subclasshook__', 'capitalize', 'casefold', 'center', 'count', 'encode', 'endswith', 'expandtabs', 'find', 'format', 'format_map', 'index', 'isalnum', 'isalpha', 'isascii', 'isdecimal', 'isdigit', 'isidentifier', 'islower', 'isnumeric', 'isprintable', 'isspace', 'istitle', 'isupper', 'join', 'ljust', 'lower', 'lstrip', 'maketrans', 'partition', 'removeprefix', 'removesuffix', 'replace', 'rfind', 'rindex', 'rjust', 'rpartition', 'rsplit', 'rstrip', 'split', 'splitlines', 'startswith', 'strip', 'swapcase', 'title', 'translate', 'upper', 'zfill']\n"
          ]
        }
      ],
      "source": [
        "print(dir(some_str))"
      ]
    },
    {
      "cell_type": "markdown",
      "metadata": {
        "id": "Gnopt8awHqA1"
      },
      "source": [
        "Создаем свой первый класс. Он пустой, но работает!"
      ]
    },
    {
      "cell_type": "code",
      "execution_count": null,
      "metadata": {
        "id": "r_QRaRYwHqA1"
      },
      "outputs": [],
      "source": [
        "class Passport:\n",
        "    pass"
      ]
    },
    {
      "cell_type": "markdown",
      "metadata": {
        "id": "jtQlCgFuHqA1"
      },
      "source": [
        "Создадим экземпляры класса."
      ]
    },
    {
      "cell_type": "code",
      "execution_count": null,
      "metadata": {
        "id": "xdNeLG40HqA2",
        "colab": {
          "base_uri": "https://localhost:8080/"
        },
        "outputId": "55bb9d61-48c4-42dd-9d3c-bbb7ef55ce91"
      },
      "outputs": [
        {
          "output_type": "stream",
          "name": "stdout",
          "text": [
            "<class '__main__.Passport'>\n",
            "<class '__main__.Passport'>\n",
            "False\n"
          ]
        }
      ],
      "source": [
        "passport_1 = Passport()\n",
        "passport_2 = Passport()\n",
        "\n",
        "print(type(passport_1))\n",
        "print(type(passport_2))\n",
        "\n",
        "# убедимся, что это разные объекты\n",
        "print(passport_1 == passport_2)"
      ]
    },
    {
      "cell_type": "markdown",
      "metadata": {
        "id": "3yM_Tmq3HqA2"
      },
      "source": [
        "## Атрибуты\n",
        "\n",
        "[Атрибуты](https://t.me/pythontalk_ru/412) — переменные внутри класса, которая хранит какую-то информацию, о нем.\n",
        "\n",
        "В Python атрибуты могут быть объявлены как для класса в целом, так и для каждого его экземпляра (объекта) индивидуально.\n",
        "\n",
        "**Атрибуты класса** - это переменные, которые принадлежат всем объектам данного класса. Они объявляются внутри класса и обычно описывают общие характеристики всех объектов этого класса."
      ]
    },
    {
      "cell_type": "code",
      "execution_count": null,
      "metadata": {
        "id": "lAXQ45seHqA2",
        "colab": {
          "base_uri": "https://localhost:8080/"
        },
        "outputId": "c26d4605-48e9-4997-add6-4d3b5134c52b"
      },
      "outputs": [
        {
          "output_type": "stream",
          "name": "stdout",
          "text": [
            "20\n",
            "20\n"
          ]
        }
      ],
      "source": [
        "class Passport:\n",
        "    pages = 20  # атрибут класса\n",
        "\n",
        "passport_1 = Passport()\n",
        "passport_2 = Passport()\n",
        "\n",
        "print(passport_1.pages)\n",
        "print(passport_2.pages)"
      ]
    },
    {
      "cell_type": "markdown",
      "source": [
        "Атрибуты объекта (экземпляра) - это переменные, которые принадлежат только конкретному объекту данного класса. Они могут быть уникальными для каждого объекта.\n",
        "\n"
      ],
      "metadata": {
        "id": "gr6rYR83aGvf"
      }
    },
    {
      "cell_type": "code",
      "source": [
        "passport_1.name = 'Oleg'  # атрибут экземпляра\n",
        "passport_2.name = 'Kate'  # атрибут экземпляра\n",
        "\n",
        "print(passport_1.name)\n",
        "print(passport_2.name)"
      ],
      "metadata": {
        "id": "DWYvApKZaSw_",
        "colab": {
          "base_uri": "https://localhost:8080/"
        },
        "outputId": "8b8e3878-461a-4814-d230-58838f3b6a31"
      },
      "execution_count": null,
      "outputs": [
        {
          "output_type": "stream",
          "name": "stdout",
          "text": [
            "Oleg\n",
            "Kate\n"
          ]
        }
      ]
    },
    {
      "cell_type": "markdown",
      "source": [
        "Можно и переписывать атрибуты класса, но обычно так не делают."
      ],
      "metadata": {
        "id": "iGV-SanAanXP"
      }
    },
    {
      "cell_type": "code",
      "source": [
        "passport_1.pages = 19\n",
        "\n",
        "print(passport_1.pages)\n",
        "print(passport_2.pages)"
      ],
      "metadata": {
        "id": "KqCNrG-garsS",
        "colab": {
          "base_uri": "https://localhost:8080/"
        },
        "outputId": "d0108990-019b-4eb8-c65a-8b386a32896c"
      },
      "execution_count": null,
      "outputs": [
        {
          "output_type": "stream",
          "name": "stdout",
          "text": [
            "19\n",
            "20\n"
          ]
        }
      ]
    },
    {
      "cell_type": "code",
      "source": [
        "print(passport_1.__dict__)\n",
        "print(passport_2.__dict__)\n",
        "print(Passport.__dict__)"
      ],
      "metadata": {
        "colab": {
          "base_uri": "https://localhost:8080/"
        },
        "id": "8BXTPNF6CQk8",
        "outputId": "e39fc4cf-97ba-4732-d096-0b441d3f2cfb"
      },
      "execution_count": null,
      "outputs": [
        {
          "output_type": "stream",
          "name": "stdout",
          "text": [
            "{'name': 'Oleg', 'pages': 19}\n",
            "{'name': 'Kate'}\n",
            "{'__module__': '__main__', 'pages': 20, '__dict__': <attribute '__dict__' of 'Passport' objects>, '__weakref__': <attribute '__weakref__' of 'Passport' objects>, '__doc__': None}\n"
          ]
        }
      ]
    },
    {
      "cell_type": "code",
      "source": [
        "docs = [passport_1, passport_2]\n",
        "\n",
        "for doc in docs:\n",
        "    print(f'{doc.name} has {doc.pages} pages in passport')"
      ],
      "metadata": {
        "id": "9sIEMEq5bWRI",
        "colab": {
          "base_uri": "https://localhost:8080/"
        },
        "outputId": "15ba70d5-e888-4772-cf21-153582c01039"
      },
      "execution_count": null,
      "outputs": [
        {
          "output_type": "stream",
          "name": "stdout",
          "text": [
            "Oleg has 19 pages in passport\n",
            "Kate has 20 pages in passport\n"
          ]
        }
      ]
    },
    {
      "cell_type": "markdown",
      "source": [
        "## Методы\n",
        "\n",
        "Методы - это функции, определенные внутри класса, которые могут работать с атрибутами объекта и выполнять определенные операции."
      ],
      "metadata": {
        "id": "_1kR59s9cEuw"
      }
    },
    {
      "cell_type": "code",
      "source": [
        "class Passport:\n",
        "    pages = 20\n",
        "\n",
        "    def add_visa(self, visa_name):\n",
        "        # hassattr - проверяет наличие атрибута у объекта\n",
        "        if not hasattr(self, 'visas'):\n",
        "            self.visas = [visa_name]  # Атрибут экземпляра для хранения списка названий виз\n",
        "        else:\n",
        "            self.visas.append(visa_name)  # Добавление нового названия визы к существующему списку виз\n",
        "\n",
        "    def print_all_visas(self):\n",
        "        if not hasattr(self, 'visas'):\n",
        "            print('Нет виз')\n",
        "        else:\n",
        "            print(f'Список всех виз: {\", \".join(self.visas)}')\n",
        "\n",
        "passport_1 = Passport()\n",
        "passport_2 = Passport()\n",
        "\n",
        "passport_1.name = 'Oleg'\n",
        "passport_2.name = 'Kate'\n",
        "\n",
        "passport_1.visas = ['visa_1', 'visa_2']\n",
        "passport_1.print_all_visas()\n",
        "passport_1.add_visa('visa_3')\n",
        "passport_1.print_all_visas()\n",
        "\n",
        "passport_2.print_all_visas()"
      ],
      "metadata": {
        "id": "TLzFGze0cV7O",
        "colab": {
          "base_uri": "https://localhost:8080/"
        },
        "outputId": "1719889d-ba0f-4084-a15b-07b1ab070adc"
      },
      "execution_count": null,
      "outputs": [
        {
          "output_type": "stream",
          "name": "stdout",
          "text": [
            "Список всех виз: visa_1, visa_2\n",
            "Список всех виз: visa_1, visa_2, visa_3\n",
            "Нет виз\n"
          ]
        }
      ]
    },
    {
      "cell_type": "markdown",
      "source": [
        "Мы определили метод внутри класса, и он стал доступен у всех экземпляров этого класса. Методы в целом похожи на обычные функции, но их ключевое отличие —  доступ к самому объекту.\n",
        "\n",
        "Когда вы определяете метод внутри класса, первым параметром этого метода всегда должен быть self. Параметр self указывает на конкретный экземпляр класса (объект) и нужен, чтобы объект мог обратиться к собственным методам или свойствам: `self.имя_свойства`.\n",
        "\n",
        "Название self - это соглашение, технически можно использовать любое другое имя, но не рекомедуется.\n",
        "\n",
        "`self` передаётся автоматически. При вызове метода мы обычным способом не передавали его в качестве аргумента.\n",
        "\n",
        "На самом деле это то же самое, что:\n",
        "\n",
        "\n",
        "\n"
      ],
      "metadata": {
        "id": "Y2uhU1k_d0tU"
      }
    },
    {
      "cell_type": "code",
      "source": [
        "Passport.print_all_visas(passport_1)"
      ],
      "metadata": {
        "id": "jzOW1TJlSyJV",
        "colab": {
          "base_uri": "https://localhost:8080/"
        },
        "outputId": "d0d52387-df99-45bf-894c-a0f8b799186c"
      },
      "execution_count": null,
      "outputs": [
        {
          "output_type": "stream",
          "name": "stdout",
          "text": [
            "Список всех виз: visa_1, visa_2, visa_3\n"
          ]
        }
      ]
    },
    {
      "cell_type": "markdown",
      "source": [
        "### Метод `__init__`\n",
        "\n"
      ],
      "metadata": {
        "id": "8wJ5htYCbvYY"
      }
    },
    {
      "cell_type": "markdown",
      "source": [
        "На прошлом шаге мы определили несколько методов в классе Passport. Если мы вызовем add_visa или print_all_visas при отсутствии списка visas в качестве атрибута объекта, то получим ошибку (чтобы этого  не допустить мы и добавили проверку hasattr). Такая проверка на наличие списка в методе не кажется оптимальным решением, потому что создать список нужно один раз, а в итоге проверяем мы его наличие на каждой сделке.\n",
        "\n",
        "Что если задавать атрибутам исходное значение прямо при создании объекта?\n"
      ],
      "metadata": {
        "id": "eQpPpdRthZQs"
      }
    },
    {
      "cell_type": "markdown",
      "source": [
        "Метод `__init__` отвечает за инициализацию экземпляров класса при их создании.\n",
        "Он вызывается автоматически при создании нового объекта и выполняет те действия, которые в нём прописаны.\n",
        "`__init__` — это технический метод, поэтому его имя начинается и заканчивается двумя подчёркиваниями. Он получает первым аргументом сам объект, в нём могут выполняться любые операции. Оставшиеся аргументы он получает из вызова при создании"
      ],
      "metadata": {
        "id": "HaP_h6d2iA5-"
      }
    },
    {
      "cell_type": "code",
      "source": [
        "class Passport:\n",
        "    pages = 20\n",
        "\n",
        "    def __init__(self, first_name, last_name, date_of_birth):\n",
        "        self.first_name = first_name\n",
        "        self.last_name = last_name\n",
        "        self.date_of_birth = date_of_birth\n",
        "        print('Добавлен новый паспорт')\n",
        "\n",
        "    def add_visa(self, visa_name):\n",
        "        if not hasattr(self, 'visas'):\n",
        "            self.visas = [visa_name]\n",
        "        else:\n",
        "            self.visas.append(visa_name)\n",
        "\n",
        "    def print_all_visas(self):\n",
        "        if not hasattr(self, 'visas'):\n",
        "            print('Нет виз')\n",
        "        else:\n",
        "            print(f'Список всех виз: {\", \".join(self.visas)}')\n",
        "\n",
        "    def show_info(self):\n",
        "        print(f'Имя: {self.first_name}, Фамилия: {self.last_name}, Дата рождения: {self.date_of_birth}')\n",
        "\n",
        "# passport_1 = Passport()\n",
        "\n",
        "passport_1 = Passport('Oleg', 'Bulygin', '30.08.1991')\n",
        "\n",
        "passport_1.show_info()"
      ],
      "metadata": {
        "id": "G0FwlSsmiS_7",
        "colab": {
          "base_uri": "https://localhost:8080/"
        },
        "outputId": "5980550a-2dbe-4aa9-bc4e-c7aa24bcacda"
      },
      "execution_count": null,
      "outputs": [
        {
          "output_type": "stream",
          "name": "stdout",
          "text": [
            "Добавлен новый паспорт\n",
            "Имя: Oleg, Фамилия: Bulygin, Дата рождения: fsdg\n"
          ]
        }
      ]
    },
    {
      "cell_type": "markdown",
      "source": [
        "Классы стоит [документировать](https://teletype.in/@pythontalk/docstring_formats)"
      ],
      "metadata": {
        "id": "weAUta9KpNn2"
      }
    },
    {
      "cell_type": "code",
      "source": [
        "class Passport:\n",
        "    \"\"\"\n",
        "    The Passport class represents a passport.\n",
        "\n",
        "    Class Attributes:\n",
        "    - pages: int - the number of pages in the passport (default is 20)\n",
        "\n",
        "    Methods:\n",
        "    - __init__(self, first_name, last_name, date_of_birth): constructor that initializes the passport attributes\n",
        "    - add_visa(self, visa_name): adds a visa to the passport\n",
        "    - print_all_visas(self): prints the list of all visas in the passport\n",
        "    - show_info(self): prints the information about the passport holder\n",
        "\n",
        "    Example usage:\n",
        "    passport = Passport('John', 'Doe', '01.01.2000')\n",
        "    passport.add_visa('USA')\n",
        "    passport.add_visa('Germany')\n",
        "    passport.print_all_visas()\n",
        "    passport.show_info()\n",
        "    \"\"\"\n",
        "\n",
        "    pages = 20\n",
        "\n",
        "    def __init__(self, first_name, last_name, date_of_birth):\n",
        "        self.first_name = first_name\n",
        "        self.last_name = last_name\n",
        "        self.date_of_birth = date_of_birth\n",
        "\n",
        "    def add_visa(self, visa_name):\n",
        "        if not hasattr(self, 'visas'):\n",
        "            self.visas = [visa_name]\n",
        "        else:\n",
        "            self.visas.append(visa_name)\n",
        "\n",
        "    def print_all_visas(self):\n",
        "        if not hasattr(self, 'visas'):\n",
        "            print('No visas')\n",
        "        else:\n",
        "            print(f'List of all visas: {\", \".join(self.visas)}')\n",
        "\n",
        "    def show_info(self):\n",
        "        print(f'First Name: {self.first_name}, Last Name: {self.last_name}, Date of Birth: {self.date_of_birth}')\n",
        "\n",
        "help(Passport)"
      ],
      "metadata": {
        "id": "YrH5XvarpXPu",
        "colab": {
          "base_uri": "https://localhost:8080/"
        },
        "outputId": "ecfcf29b-206d-43b2-feb5-28594d9a6217"
      },
      "execution_count": null,
      "outputs": [
        {
          "output_type": "stream",
          "name": "stdout",
          "text": [
            "Help on class Passport in module __main__:\n",
            "\n",
            "class Passport(builtins.object)\n",
            " |  Passport(first_name, last_name, date_of_birth)\n",
            " |  \n",
            " |  The Passport class represents a passport.\n",
            " |  \n",
            " |  Class Attributes:\n",
            " |  - pages: int - the number of pages in the passport (default is 20)\n",
            " |  \n",
            " |  Methods:\n",
            " |  - __init__(self, first_name, last_name, date_of_birth): constructor that initializes the passport attributes\n",
            " |  - add_visa(self, visa_name): adds a visa to the passport\n",
            " |  - print_all_visas(self): prints the list of all visas in the passport\n",
            " |  - show_info(self): prints the information about the passport holder\n",
            " |  \n",
            " |  Example usage:\n",
            " |  passport = Passport('John', 'Doe', '01.01.2000')\n",
            " |  passport.change_surname('Smith')\n",
            " |  passport.add_visa('USA')\n",
            " |  passport.add_visa('Germany')\n",
            " |  passport.print_all_visas()\n",
            " |  passport.show_info()\n",
            " |  \n",
            " |  Methods defined here:\n",
            " |  \n",
            " |  __init__(self, first_name, last_name, date_of_birth)\n",
            " |      Initialize self.  See help(type(self)) for accurate signature.\n",
            " |  \n",
            " |  add_visa(self, visa_name)\n",
            " |  \n",
            " |  print_all_visas(self)\n",
            " |  \n",
            " |  show_info(self)\n",
            " |  \n",
            " |  ----------------------------------------------------------------------\n",
            " |  Data descriptors defined here:\n",
            " |  \n",
            " |  __dict__\n",
            " |      dictionary for instance variables (if defined)\n",
            " |  \n",
            " |  __weakref__\n",
            " |      list of weak references to the object (if defined)\n",
            " |  \n",
            " |  ----------------------------------------------------------------------\n",
            " |  Data and other attributes defined here:\n",
            " |  \n",
            " |  pages = 20\n",
            "\n"
          ]
        }
      ]
    },
    {
      "cell_type": "markdown",
      "metadata": {
        "id": "He6LEQboHqBA"
      },
      "source": [
        "## Ещё примеры ^_^"
      ]
    },
    {
      "cell_type": "markdown",
      "source": [
        "Реализуем класс клиента с информацией о скидках.\n",
        "\n",
        "Скидка определяется так:\n",
        "- за каждый полный год после регистрации в программе лояльности скидка увеличивается на 1%;\n",
        "- после каждых 10 заказов скидка увеличивается на 2%;\n",
        "- для всех сотрудников компании базовая скидка равна 10%;\n",
        "- максимальная скидка 20% (30% для сотрудников)."
      ],
      "metadata": {
        "id": "p4EVXGpx6feA"
      }
    },
    {
      "cell_type": "code",
      "source": [
        "import datetime\n",
        "\n",
        "class Client:\n",
        "    \"\"\"\n",
        "    The Client class represents a client with discount information.\n",
        "\n",
        "    Attributes:\n",
        "    - email: str - the email of the client\n",
        "    - order_num: int - the number of orders made by the client\n",
        "    - registration_year: int - the year of registration in the loyalty program\n",
        "    - is_employee: bool - indicates if the client is an employee of the company\n",
        "    - discount: float - the discount percentage for the client\n",
        "\n",
        "    Methods:\n",
        "    - __init__(self, email, registration_year, order_num=0, is_employee=False): constructor that initializes the client attributes\n",
        "    - make_order(self, price): makes an order and updates the discount\n",
        "    - update_discount(self): updates the discount based on the client's registration year and order count\n",
        "\n",
        "    Example usage:\n",
        "    client = Client(\"example@example.com\", 2018)\n",
        "    client.make_order(100)\n",
        "    print(client.discount)\n",
        "    \"\"\"\n",
        "\n",
        "    def __init__(self, email, registration_year, order_num=0, is_employee=False):\n",
        "        self.email = email\n",
        "        self.order_num = order_num\n",
        "        self.registration_year = registration_year\n",
        "        self.is_employee = is_employee\n",
        "\n",
        "    def make_order(self, price):\n",
        "        self.update_discount()\n",
        "        discounted_price = price * (1 - self.discount)\n",
        "\n",
        "        # тут должна быть реальная логика заказа, но мы просто выводим стоимость\n",
        "        print(f\"Цена заказа для {self.email} составляет {discounted_price}\")\n",
        "        self.order_num += 1\n",
        "\n",
        "    def update_discount(self):\n",
        "        current_year = datetime.datetime.now().year  # определение текущего года\n",
        "        years_since_registration = current_year - self.registration_year\n",
        "        discount_increment = years_since_registration // 1  # 1% за каждый год\n",
        "        discount_increment += self.order_num // 10 * 2  # 2% за каждые 10 заказов\n",
        "        if self.is_employee:\n",
        "            discount_increment += 10\n",
        "        self.discount = min(discount_increment / 100, 0.3 if self.is_employee else 0.2)\n",
        "        print(f'Текущая скидка для {self.email} составляет {self.discount :.2%}')\n",
        "\n",
        "\n",
        "client_db = [\n",
        "    Client(\"gman@gmail.com\", 2019),\n",
        "    Client(\"ya@ya.ru\", 2012, 23),\n",
        "    Client(\"old@mail.ru\", 2023),\n",
        "    Client(\"employee@example.com\", 2020, is_employee=True)\n",
        "]\n",
        "\n",
        "client_db[0].make_order(100)\n",
        "client_db[1].make_order(200)\n",
        "client_db[2].make_order(500)\n",
        "client_db[3].make_order(400)"
      ],
      "metadata": {
        "colab": {
          "base_uri": "https://localhost:8080/"
        },
        "id": "wUGfJcTS8D5V",
        "outputId": "e5aaf1f0-3cb1-493a-8b89-713067b2b900"
      },
      "execution_count": null,
      "outputs": [
        {
          "output_type": "stream",
          "name": "stdout",
          "text": [
            "Текущая скидка для gman@gmail.com составляет 4.00%\n",
            "Цена заказа для gman@gmail.com составляет 96.0\n",
            "Текущая скидка для ya@ya.ru составляет 15.00%\n",
            "Цена заказа для ya@ya.ru составляет 170.0\n",
            "Текущая скидка для old@mail.ru составляет 0.00%\n",
            "Цена заказа для old@mail.ru составляет 500.0\n",
            "Текущая скидка для employee@example.com составляет 13.00%\n",
            "Цена заказа для employee@example.com составляет 348.0\n"
          ]
        }
      ]
    },
    {
      "cell_type": "markdown",
      "source": [
        "Создадим 2 класса: один для счетов в банке, другой для самих банков.   \n",
        "\n",
        "Клиент может снимать деньги со счета и вносить деньги на счет.  \n",
        "\n",
        "Банк хранить все записи о счетах, может их удалять. Можно вносить и снимать деньги через банк."
      ],
      "metadata": {
        "id": "dhtM_dhD_TzH"
      }
    },
    {
      "cell_type": "code",
      "execution_count": null,
      "metadata": {
        "id": "vvwDviS2HqBE",
        "colab": {
          "base_uri": "https://localhost:8080/"
        },
        "outputId": "f8a8d58a-635f-4295-c5d7-9d5fb1cb0501"
      },
      "outputs": [
        {
          "output_type": "stream",
          "name": "stdout",
          "text": [
            "0\n",
            "50000\n",
            "------------------------------\n",
            "100000\n",
            "Недостаточно средств\n",
            "100000\n",
            "30000\n"
          ]
        }
      ],
      "source": [
        "class Account:\n",
        "    \"\"\"\n",
        "    Class representing a bank account.\n",
        "\n",
        "    Args:\n",
        "        account_number (int): The account number.\n",
        "        balance (float, optional): The balance of the account. Default is 0.\n",
        "\n",
        "    Attributes:\n",
        "        account_number (int): The account number.\n",
        "        balance (float): The balance of the account.\n",
        "\n",
        "    \"\"\"\n",
        "\n",
        "    def __init__(self, account_number, balance=0):\n",
        "        self.account_number = account_number\n",
        "        self.balance = balance\n",
        "\n",
        "    def deposit(self, amount):\n",
        "        self.balance += amount\n",
        "\n",
        "    def withdraw(self, amount):\n",
        "        if amount > self.balance:\n",
        "            print('Недостаточно средств')\n",
        "            return\n",
        "        self.balance -= amount\n",
        "\n",
        "\n",
        "account_1 = Account(42)\n",
        "print(account_1.balance)\n",
        "account_1.deposit(50000)\n",
        "print(account_1.balance)\n",
        "print('------------------------------')\n",
        "account_2 = Account(777, 100000)\n",
        "print(account_2.balance)\n",
        "account_2.withdraw(150000)\n",
        "print(account_2.balance)\n",
        "account_2.withdraw(70000)\n",
        "print(account_2.balance)"
      ]
    },
    {
      "cell_type": "code",
      "source": [
        "class Bank:\n",
        "    \"\"\"\n",
        "    Class representing a bank.\n",
        "\n",
        "    Attributes:\n",
        "        accounts (dict): A dictionary storing the customer accounts.\n",
        "\n",
        "    \"\"\"\n",
        "\n",
        "    def __init__(self, accounts={}):  # тут мы сделали плохо\n",
        "        self.accounts = accounts\n",
        "\n",
        "    def add_account(self, account):\n",
        "        if isinstance(account, Account):\n",
        "            self.accounts[account.account_number] = account\n",
        "        else:\n",
        "            print('Некорректное добавление счета')\n",
        "\n",
        "    def remove_account(self, account_number):\n",
        "        if account_number in self.accounts:\n",
        "            del self.accounts[account_number]\n",
        "        else:\n",
        "            print('Счет не найден')\n",
        "\n",
        "    def find_account(self, account_number):\n",
        "        return self.accounts.get(account_number, 'Счёт не найден')\n",
        "\n",
        "    def deposit(self, account_number, amount):\n",
        "        account = self.find_account(account_number)\n",
        "        account.deposit(amount)\n",
        "\n",
        "    def withdraw(self, account_number, amount):\n",
        "        account = self.find_account(account_number)\n",
        "        account.withdraw(amount)\n"
      ],
      "metadata": {
        "id": "0VETL77WbucI"
      },
      "execution_count": null,
      "outputs": []
    },
    {
      "cell_type": "code",
      "source": [
        "green_bank = Bank()\n",
        "yellow_bank = Bank()\n",
        "\n",
        "green_bank.add_account(account_1)\n",
        "\n",
        "print(yellow_bank.accounts)\n",
        "print(green_bank.accounts)\n",
        "for number, account in yellow_bank.accounts.items():\n",
        "    print(f'Баланс счета {number} составляет {account.balance}')"
      ],
      "metadata": {
        "colab": {
          "base_uri": "https://localhost:8080/"
        },
        "id": "NajFmkjpcwNa",
        "outputId": "0478a1b9-d0d9-4b8b-ccd1-ad21b9ff8ff2"
      },
      "execution_count": null,
      "outputs": [
        {
          "output_type": "stream",
          "name": "stdout",
          "text": [
            "{42: <__main__.Account object at 0x7e8094c74b50>}\n",
            "{42: <__main__.Account object at 0x7e8094c74b50>}\n",
            "Баланс счета 42 составляет 50000\n"
          ]
        }
      ]
    },
    {
      "cell_type": "markdown",
      "source": [
        "В этом коде параметр accounts получает изменяемое значение по умолчанию - пустой словарь {}. Проблема возникает потому, что значение аргумента по умолчанию создается только один раз при определении функции/метода.\n",
        "\n",
        "Если мы создадим несколько экземпляров класса Bank, не передавая аргументы, они будут использовать один и тот же объект словаря accounts в качестве значения по умолчанию. А если мы изменим словарь accounts для одного экземпляра, это также повлияет на словарь accounts для других экземпляров.\n",
        "\n",
        "Подробнее можно почитать [здесь](https://teletype.in/@pythontalk/involuntary_borgs)."
      ],
      "metadata": {
        "id": "RUTazVkRcgzt"
      }
    },
    {
      "cell_type": "code",
      "source": [
        "class Bank:\n",
        "    \"\"\"\n",
        "    Class representing a bank.\n",
        "\n",
        "    Attributes:\n",
        "        accounts (dict): A dictionary storing the customer accounts.\n",
        "\n",
        "    \"\"\"\n",
        "\n",
        "    def __init__(self):\n",
        "        self.accounts = {}\n",
        "\n",
        "    def add_account(self, account):\n",
        "\n",
        "        if isinstance(account, Account):\n",
        "            self.accounts[account.account_number] = account\n",
        "        else:\n",
        "            print('Некорректное добавление счета')\n",
        "\n",
        "    def remove_account(self, account_number):\n",
        "        if account_number in self.accounts:\n",
        "            del self.accounts[account_number]\n",
        "        else:\n",
        "            print('Счет не найден')\n",
        "\n",
        "    def find_account(self, account_number):\n",
        "        return self.accounts.get(account_number, 'Счет не найден')\n",
        "\n",
        "    def deposit(self, account_number, amount):\n",
        "        account = self.find_account(account_number)\n",
        "        account.deposit(amount)\n",
        "\n",
        "    def withdraw(self, account_number, amount):\n",
        "        account = self.find_account(account_number)\n",
        "        account.withdraw(amount)\n",
        "\n",
        "mega_bank = Bank()\n",
        "mega_bank.add_account(account_1)\n",
        "mega_bank.add_account(account_2)\n",
        "\n",
        "mega_bank.deposit(42, 100)\n",
        "mega_bank.deposit(777, 200)\n",
        "\n",
        "mega_bank.withdraw(42, 50)\n",
        "mega_bank.withdraw(777, 100)\n",
        "\n",
        "print(mega_bank.accounts)\n",
        "for number, account in mega_bank.accounts.items():\n",
        "    print(f'Баланс счета {number} составляет {account.balance}')"
      ],
      "metadata": {
        "id": "U0lUomfKbPoW",
        "colab": {
          "base_uri": "https://localhost:8080/"
        },
        "outputId": "a05ce101-dd9f-4af5-9d48-d2392326d07e"
      },
      "execution_count": null,
      "outputs": [
        {
          "output_type": "stream",
          "name": "stdout",
          "text": [
            "{42: <__main__.Account object at 0x7e8094c74b50>, 777: <__main__.Account object at 0x7e8094c771f0>}\n",
            "Баланс счета 42 составляет 50050\n",
            "Баланс счета 777 составляет 30100\n"
          ]
        }
      ]
    },
    {
      "cell_type": "markdown",
      "source": [
        "## Что ещё почитать?\n",
        "- [Глава про ООП в A Byte of Python](https://python.swaroopch.com/oop.html)\n",
        "- [Работа с атрибутами объектов](https://t.me/pythontalk_ru/215)\n",
        "\n"
      ],
      "metadata": {
        "id": "cEO8UgIT1Tml"
      }
    },
    {
      "cell_type": "code",
      "source": [],
      "metadata": {
        "id": "c53KrbBpLDBW"
      },
      "execution_count": null,
      "outputs": []
    }
  ],
  "metadata": {
    "kernelspec": {
      "display_name": "Python 3 (ipykernel)",
      "language": "python",
      "name": "python3"
    },
    "language_info": {
      "codemirror_mode": {
        "name": "ipython",
        "version": 3
      },
      "file_extension": ".py",
      "mimetype": "text/x-python",
      "name": "python",
      "nbconvert_exporter": "python",
      "pygments_lexer": "ipython3",
      "version": "3.10.9"
    },
    "toc": {
      "base_numbering": 1,
      "nav_menu": {},
      "number_sections": false,
      "sideBar": true,
      "skip_h1_title": false,
      "title_cell": "Table of Contents",
      "title_sidebar": "Contents",
      "toc_cell": false,
      "toc_position": {},
      "toc_section_display": true,
      "toc_window_display": false
    },
    "colab": {
      "provenance": [],
      "include_colab_link": true
    }
  },
  "nbformat": 4,
  "nbformat_minor": 0
}